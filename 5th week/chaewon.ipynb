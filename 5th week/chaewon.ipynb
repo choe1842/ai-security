{
  "nbformat": 4,
  "nbformat_minor": 0,
  "metadata": {
    "colab": {
      "name": "5th_week_chaewon.ipynb",
      "provenance": [],
      "include_colab_link": true
    },
    "kernelspec": {
      "name": "python3",
      "display_name": "Python 3"
    }
  },
  "cells": [
    {
      "cell_type": "markdown",
      "metadata": {
        "id": "view-in-github",
        "colab_type": "text"
      },
      "source": [
<<<<<<< HEAD
        "<a href=\"https://colab.research.google.com/github/ichwoni/ai-security-1/blob/master/5th%20week/chaewon.ipynb\" target=\"_parent\"><img src=\"https://colab.research.google.com/assets/colab-badge.svg\" alt=\"Open In Colab\"/></a>"
=======
        "<a href=\"https://colab.research.google.com/github/ichwoni/ai-security-1/blob/chaewon/5th%20week/chaewon.ipynb\" target=\"_parent\"><img src=\"https://colab.research.google.com/assets/colab-badge.svg\" alt=\"Open In Colab\"/></a>"
>>>>>>> upstream/master
      ]
    },
    {
      "cell_type": "code",
      "metadata": {
        "id": "mngXz3pPfOXv",
        "colab_type": "code",
        "outputId": "036e74e2-4371-4ab8-f931-448d2ae8b9da",
        "colab": {
          "base_uri": "https://localhost:8080/",
          "height": 52
        }
      },
      "source": [
        "a=100\n",
        "print(a)\n",
        "a=10.54\n",
        "print(a)"
      ],
      "execution_count": 0,
      "outputs": [
        {
          "output_type": "stream",
          "text": [
            "100\n",
            "10.54\n"
          ],
          "name": "stdout"
        }
      ]
    },
    {
      "cell_type": "code",
      "metadata": {
        "id": "FOiLI3Q8fbHJ",
        "colab_type": "code",
        "outputId": "2ad5ef28-f290-4f6a-b0d1-8342f2f34714",
        "colab": {
          "base_uri": "https://localhost:8080/",
          "height": 34
        }
      },
      "source": [
        "dic = {\"k1\":\"v1\", \"k2\":\"v2\", \"k3\":\"v3\"}\n",
        "print(dic[\"k1\"])"
      ],
      "execution_count": 0,
      "outputs": [
        {
          "output_type": "stream",
          "text": [
            "v1\n"
          ],
          "name": "stdout"
        }
      ]
    },
    {
      "cell_type": "code",
      "metadata": {
        "id": "66g0qOr9g4ro",
        "colab_type": "code",
        "outputId": "a2a28088-d181-4c66-eeb5-9c53fcbf5bc4",
        "colab": {
          "base_uri": "https://localhost:8080/",
          "height": 52
        }
      },
      "source": [
        "class calculator:\n",
        "  def __init__(self):\n",
        "    self.result = 0\n",
        "  def add(self,a,b):\n",
        "    self.result = a+b\n",
        "    return self.result\n",
        "  def minus(self,a,b):\n",
        "    self.result=a-b\n",
        "    return self.result\n",
        "\n",
        "cal = calculator()\n",
        "\n",
        "print(cal.add(4,5))\n",
        "print(cal.minus(100,3))"
      ],
      "execution_count": 0,
      "outputs": [
        {
          "output_type": "stream",
          "text": [
            "9\n",
            "97\n"
          ],
          "name": "stdout"
        }
      ]
    },
    {
      "cell_type": "code",
      "metadata": {
        "id": "3hNRa58DkIEy",
        "colab_type": "code",
        "outputId": "05924c2e-4788-40ef-f8b0-4582dd0879d3",
        "colab": {
          "base_uri": "https://localhost:8080/",
          "height": 369
        }
      },
      "source": [
        "for i in range (10):\n",
        "  for j in range (1, i, 1):\n",
        "    print(\"*\", end=\"\")\n",
        "  print(\"\\n\")"
      ],
      "execution_count": 0,
      "outputs": [
        {
          "output_type": "stream",
          "text": [
            "\n",
            "\n",
            "\n",
            "\n",
            "*\n",
            "\n",
            "**\n",
            "\n",
            "***\n",
            "\n",
            "****\n",
            "\n",
            "*****\n",
            "\n",
            "******\n",
            "\n",
            "*******\n",
            "\n",
            "********\n",
            "\n"
          ],
          "name": "stdout"
        }
      ]
    },
    {
      "cell_type": "code",
      "metadata": {
        "id": "R8qhELF2lnCe",
        "colab_type": "code",
        "colab": {}
      },
      "source": [
        "import torch"
      ],
      "execution_count": 0,
      "outputs": []
    },
    {
      "cell_type": "code",
      "metadata": {
        "id": "xfhRKAcqlr13",
        "colab_type": "code",
        "outputId": "9ccd6b14-920c-45fc-fff6-354b02923cd3",
        "colab": {
          "base_uri": "https://localhost:8080/",
          "height": 105
        }
      },
      "source": [
        "x=torch.empty(5,3)\n",
        "print(x)"
      ],
      "execution_count": 0,
      "outputs": [
        {
          "output_type": "stream",
          "text": [
            "tensor([[1.1481e-36, 0.0000e+00, 3.3631e-44],\n",
            "        [0.0000e+00,        nan, 9.8439e-12],\n",
            "        [1.1578e+27, 1.1362e+30, 7.1547e+22],\n",
            "        [4.5828e+30, 1.2121e+04, 7.1846e+22],\n",
            "        [9.2198e-39, 7.0374e+22, 1.8269e+34]])\n"
          ],
          "name": "stdout"
        }
      ]
    },
    {
      "cell_type": "code",
      "metadata": {
        "id": "ZmTjvKYxmWwP",
        "colab_type": "code",
        "outputId": "7fbcc86c-d7b9-41f5-d438-d9918f93aaaa",
        "colab": {
          "base_uri": "https://localhost:8080/",
          "height": 105
        }
      },
      "source": [
        "x=torch.rand(5,3)\n",
        "print(x)"
      ],
      "execution_count": 0,
      "outputs": [
        {
          "output_type": "stream",
          "text": [
            "tensor([[0.9949, 0.9399, 0.0961],\n",
            "        [0.3255, 0.9031, 0.7327],\n",
            "        [0.2721, 0.9334, 0.7812],\n",
            "        [0.1758, 0.0934, 0.8089],\n",
            "        [0.8890, 0.8768, 0.8714]])\n"
          ],
          "name": "stdout"
        }
      ]
    },
    {
      "cell_type": "code",
      "metadata": {
        "id": "Dfgym78Om20Q",
        "colab_type": "code",
        "outputId": "18c36753-fac4-4067-9622-2008cb61a26f",
        "colab": {
          "base_uri": "https://localhost:8080/",
          "height": 34
        }
      },
      "source": [
        "x=torch.tensor([5.5, 3])\n",
        "print(x)"
      ],
      "execution_count": 0,
      "outputs": [
        {
          "output_type": "stream",
          "text": [
            "tensor([5.5000, 3.0000])\n"
          ],
          "name": "stdout"
        }
      ]
    },
    {
      "cell_type": "code",
      "metadata": {
        "id": "15ycIZUTnBvg",
        "colab_type": "code",
        "outputId": "92bd5e7f-12e6-4e82-b7c3-1d78a7403e53",
        "colab": {
          "base_uri": "https://localhost:8080/",
          "height": 175
        }
      },
      "source": [
        "x=torch.rand(3,4)\n",
        "y=torch.rand(3,4)\n",
        "z=torch.add(x,y)\n",
        "\n",
        "print(x,y,z, sep=\"\\n\")\n"
      ],
      "execution_count": 0,
      "outputs": [
        {
          "output_type": "stream",
          "text": [
            "tensor([[0.8102, 0.9069, 0.3061, 0.3704],\n",
            "        [0.9025, 0.8251, 0.6876, 0.8874],\n",
            "        [0.3098, 0.8112, 0.9237, 0.4250]])\n",
            "tensor([[0.5042, 0.8410, 0.5736, 0.8225],\n",
            "        [0.1577, 0.8683, 0.2395, 0.8954],\n",
            "        [0.0073, 0.0359, 0.0339, 0.7136]])\n",
            "tensor([[1.3144, 1.7479, 0.8798, 1.1929],\n",
            "        [1.0603, 1.6934, 0.9271, 1.7828],\n",
            "        [0.3171, 0.8471, 0.9576, 1.1386]])\n"
          ],
          "name": "stdout"
        }
      ]
    }
  ]
}